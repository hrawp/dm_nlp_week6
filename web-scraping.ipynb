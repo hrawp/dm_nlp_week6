{
 "cells": [
  {
   "cell_type": "markdown",
   "metadata": {},
   "source": [
    "# Web Mining and Applied NLP (44-620)\n",
    "\n",
    "## Web Scraping and NLP with Requests, BeautifulSoup, and spaCy\n",
    "\n",
    "### Student Name:  Aaron Pelton\n",
    "\n",
    "Perform the tasks described in the Markdown cells below.  When you have completed the assignment make sure your code cells have all been run (and have output beneath them) and ensure you have committed and pushed ALL of your changes to your assignment repository.\n",
    "\n",
    "Every question that requires you to write code will have a code cell underneath it; you may either write your entire solution in that cell or write it in a python file (`.py`), then import and run the appropriate code to answer the question."
   ]
  },
  {
   "cell_type": "markdown",
   "metadata": {},
   "source": [
    "1. Write code that extracts the article html from https://web.archive.org/web/20210327165005/https://hackaday.com/2021/03/22/how-laser-headlights-work/ and dumps it to a .pkl (or other appropriate file)"
   ]
  },
  {
   "cell_type": "markdown",
   "metadata": {},
   "source": [
    "## Question 1 Week 6"
   ]
  },
  {
   "cell_type": "code",
   "execution_count": 1,
   "metadata": {},
   "outputs": [],
   "source": [
    "import requests\n",
    "from bs4 import BeautifulSoup\n",
    "import pickle\n",
    "\n",
    "# 1. URL of the article\n",
    "url = 'https://web.archive.org/web/20210327165005/https://hackaday.com/2021/03/22/how-laser-headlights-work/'\n",
    "\n",
    "# 2. Fetch the webpage\n",
    "response = requests.get(url)\n",
    "response.raise_for_status()  # Raise error for bad responses\n",
    "\n",
    "# 3. Parse the HTML\n",
    "soup = BeautifulSoup(response.text, 'html.parser')\n",
    "\n",
    "# 4. Try to extract the article tag (common structure)\n",
    "article = soup.find('article')\n",
    "\n",
    "# Fallback: If no <article> tag, fall back to main content heuristics\n",
    "if not article:\n",
    "    article = soup.find('div', {'id': 'main'}) or soup.find('div', class_='content')\n",
    "\n",
    "# 5. Store the HTML string\n",
    "html_content = str(article) if article else ''\n",
    "\n",
    "# 6. Dump to a Pickle file\n",
    "with open('article.pkl', 'wb') as f:\n",
    "    pickle.dump(html_content, f)"
   ]
  },
  {
   "cell_type": "markdown",
   "metadata": {},
   "source": [
    "2. Read in your article's html source from the file you created in question 1 and print it's text (use `.get_text()`)"
   ]
  },
  {
   "cell_type": "markdown",
   "metadata": {},
   "source": [
    "## Question 2 Week 6"
   ]
  },
  {
   "cell_type": "code",
   "execution_count": 2,
   "metadata": {},
   "outputs": [
    {
     "name": "stdout",
     "output_type": "stream",
     "text": [
      "How Laser Headlights Work\n",
      "130 Comments\n",
      "by:\n",
      "Lewin Day\n",
      "March 22, 2021\n",
      "When we think about the onward march of automotive technology, headlights aren’t usually the first thing that come to mind. Engines, fuel efficiency, and the switch to electric power are all more front of mind. However, that doesn’t mean there aren’t thousands of engineers around the world working to improve the state of the art in automotive lighting day in, day out.\n",
      "Sealed beam headlights gave way to more modern designs once regulations loosened up, while bulbs moved from simple halogens to xenon HIDs and, more recently, LEDs. Now, a new technology is on the scene, with lasers!\n",
      "Laser Headlights?!\n",
      "BWM’s prototype laser headlight assemblies undergoing testing.\n",
      "The first image brought to mind by the phrase “laser headlights” is that of laser beams firing out the front of an automobile. Obviously, coherent beams of monochromatic light would make for poor illumination outside of a very specific spot quite some distance away. Thankfully for our eyes, laser headlights don’t work in this way at all.\n",
      "Instead, laser headlights consist of one or more solid state laser diodes mounted inside the headlight. These blue lasers are fired at a yellow phosphor, similar to that used in white LEDs. This produces a powerful, vibrant white light that can then be bounced off reflectors and out of the headlights towards the road. Laser headlights built in this way have several benefits. They’re more energy efficient than LEDs that put out the same amount of light, while also being more space efficient, too.\n",
      "BWM’s futuristic i8 was one of the first vehicles to ship with laser headlight technology.\n",
      "Laser headlights are still a nascent technology, thus far only appearing in a few BMW, Audi, and other select vehicles.\n",
      "BMW’s technology was developed in partnership with lighting experts OSRAM\n",
      ". In practice, a regular LED low-beam lamp is used, with the laser used to create an incredibly bright and focused spot, used for high-beams. This can provide illumination out to 600 meters ahead of the vehicle, double that of conventional LED high beams. The lights use indium gallium nitride diode lasers that were originally used in projectors, with power levels above 1 watt. One of the challenges in implementing such technology in an automotive environment is the need for it to operate at temperature extremes. While research lasers and laser pointers may primarily be used at typical room temperatures, automotive headlights must be able to withstand everything from 40 degrees below zero up to 50 degrees C. Thankfully, the laser’s high efficiency means it doesn’t have huge heat output of its own to further complicate things. Other engineering challenges involve tailoring the optics package for the rough-and-tumble, high vibration environment found in the automotive application. It’s also important to ensure, as with any such device, that the end user can’t be exposed to harmful laser radiation in the event of accident or malfunction.\n",
      "Tearing Down the Laser Headlight\n",
      "A marketing image showing the construction of an aftermarket LED/laser headlight. We’d take the laser power with a grain of salt — it’s difficult to imagine a 10 W laser shining directly on some small LEDs without melting a hole through the board in short order.\n",
      "An aftermarket has sprung up too, with delightfully innovative designs. Combined laser/LED headlights are readily available on Alibaba,\n",
      "designed as a drop in replacement for projector lamps on existing vehicles.\n",
      "These often use an LED low-beam, and a combined LED/laser high beam, where the laser diode shoots directly at the LED phosphor to excite it further, rather than using its own. These units often also come with fan cooling to keep the laser and LEDs below their maximum operational temperature. Such developments are exciting, though it’s important to be wary of the performance of unknown aftermarket headlights.\n",
      "Many aftermarket LED headlight “upgrades” fail to pass muster\n",
      "when it comes to real-world performance, and there’s no reason to believe hybrid LED/laser designs will be any different. We’d love to pass a selection of these parts through\n",
      "a full IIHS test protocol\n",
      ", but that’s sadly beyond the scope (and budget!) of this article.\n",
      "However, [mikeselectricstuff] has happened to lay his hands on both the BMW and aftermarket parts,\n",
      "tearing them all down in his workshop to see what makes them tick.\n",
      "The differences are multitude when laid bare on the bench. The AliExpress part is relatively simple, wired up no differently from a regular headlight. Interestingly, however, the laser high-beam circuit runs all the time in these parts. To prevent blinding other road users, a shutter is kept in place to block the light, which is moved out of the way with a solenoid when the driver turns on the high beam switch.\n",
      "Where the aftermarket part is a little out of left field, the BMW design is another thing entirely. The cutting-edge headlights are hooked up with multiple connectors and over 30 conductors, with much of the driver electronics living in an external controller. Much of this is to drive the various LEDs and stepper motors for slewing the headlights when steering. However, the laser assembly brings its own complexities. Twin light sensors are built inside to monitor the laser beam, and a special metal blocking arm sits directly in front of the diode, presumably to stop the laser light leaving the headlight in the event the phosphor coating burns through. It’s truly wild to get a look inside a modern luxury car’s headlight and see just how far we’ve come from the old days of simple sealed beams.\n",
      "Cost Versus Performance\n",
      "Despite the efficiency gains available, the technology remains expensive. Powerful laser diodes don’t come cheap, after all. However, as the technology trickles down to lower-end models, it’s likely that we could see economies of scale change that for the better. Indeed, if national authorities begin to demand higher performance headlights as standard, we could see laser headlights become the norm, rather than an expensive luxury. The technology could naturally be applied to home and commercial lighting, too — though we suspect the potential gains are limited enough that LED lighting will remain the norm for some time to come.\n",
      "The high light output of laser headlights in a compact package allows engineers greater freedom when designing the front-end of a car.\n",
      "As it currently stands, much of the appeal of the new technology is about the packaging benefits, which allow automotive designers greater freedom around the headlight area. Such concerns are less of a factor when it comes to light fittings in the home or office, or indeed, on lower-end automobiles. Regardless, it’s an exciting new application for lasers and one we’ll be sure to see more of in the future.\n",
      "Posted in\n",
      "car hacks\n",
      ",\n",
      "Engineering\n",
      ",\n",
      "Featured\n",
      ",\n",
      "Laser Hacks\n",
      ",\n",
      "Slider\n",
      "Tagged\n",
      "laser\n",
      ",\n",
      "laser headlight\n",
      ",\n",
      "laser headlights\n",
      ",\n",
      "light\n"
     ]
    }
   ],
   "source": [
    "# 1. Load the HTML from the .pkl file\n",
    "with open('article.pkl', 'rb') as f:\n",
    "    html_content = pickle.load(f)\n",
    "\n",
    "# 2. Parse the HTML\n",
    "soup = BeautifulSoup(html_content, 'html.parser')\n",
    "\n",
    "# 3. Extract and print the text\n",
    "text = soup.get_text(separator='\\n', strip=True)\n",
    "print(text)"
   ]
  },
  {
   "cell_type": "markdown",
   "metadata": {},
   "source": [
    "3. Load the article text into a trained `spaCy` pipeline, and determine the 5 most frequent tokens (converted to lower case).  Print the common tokens with an appropriate label.  Additionally, print the tokens their frequencies (with appropriate labels). Make sure to remove things we don't care about (punctuation, stopwords, whitespace)."
   ]
  },
  {
   "cell_type": "markdown",
   "metadata": {},
   "source": [
    "## Question 3 Week 6"
   ]
  },
  {
   "cell_type": "code",
   "execution_count": 8,
   "metadata": {},
   "outputs": [
    {
     "name": "stdout",
     "output_type": "stream",
     "text": [
      "Top 5 Most Frequent Tokens:\n",
      "  Token: 'laser'  —  Frequency: 35\n",
      "  Token: 'headlights'  —  Frequency: 19\n",
      "  Token: 'headlight'  —  Frequency: 11\n",
      "  Token: 'technology'  —  Frequency: 10\n",
      "  Token: 'led'  —  Frequency: 10\n"
     ]
    }
   ],
   "source": [
    "import pickle\n",
    "from bs4 import BeautifulSoup\n",
    "import spacy\n",
    "from collections import Counter\n",
    "\n",
    "# 1. Load HTML content from the pickle file\n",
    "with open('article.pkl', 'rb') as f:\n",
    "    html_content = pickle.load(f)\n",
    "\n",
    "# 2. Parse the HTML and extract text\n",
    "soup = BeautifulSoup(html_content, 'html.parser')\n",
    "text = soup.get_text(separator=' ', strip=True)\n",
    "\n",
    "# 3. Load a spaCy language model\n",
    "nlp = spacy.load('en_core_web_sm')  # Make sure this model is installed\n",
    "\n",
    "# 4. Process the text\n",
    "doc = nlp(text)\n",
    "\n",
    "# 5. Filter tokens: remove stopwords, punctuation, and whitespace\n",
    "filtered_tokens = [\n",
    "    token.text.lower() for token in doc\n",
    "    if not (token.is_stop or token.is_punct or token.is_space)\n",
    "]\n",
    "\n",
    "# 6. Count token frequencies\n",
    "token_freq = Counter(filtered_tokens)\n",
    "\n",
    "# 7. Get the 5 most common tokens\n",
    "most_common = token_freq.most_common(5)\n",
    "\n",
    "# 8. Print results\n",
    "print(\"Top 5 Most Frequent Tokens:\")\n",
    "for token, freq in most_common:\n",
    "    print(f\"  Token: '{token}'  —  Frequency: {freq}\")"
   ]
  },
  {
   "cell_type": "markdown",
   "metadata": {},
   "source": [
    "4. Load the article text into a trained `spaCy` pipeline, and determine the 5 most frequent lemmas (converted to lower case).  Print the common lemmas with an appropriate label.  Additionally, print the lemmas with their frequencies (with appropriate labels). Make sure to remove things we don't care about (punctuation, stopwords, whitespace)."
   ]
  },
  {
   "cell_type": "markdown",
   "metadata": {},
   "source": [
    "## Question 4 Week 6"
   ]
  },
  {
   "cell_type": "code",
   "execution_count": 10,
   "metadata": {},
   "outputs": [
    {
     "name": "stdout",
     "output_type": "stream",
     "text": [
      "Top 5 Most Frequent Lemmas:\n",
      "  Lemma: 'laser'  —  Frequency: 40\n",
      "  Lemma: 'headlight'  —  Frequency: 28\n",
      "  Lemma: 'beam'  —  Frequency: 12\n",
      "  Lemma: 'technology'  —  Frequency: 10\n",
      "  Lemma: 'led'  —  Frequency: 10\n"
     ]
    }
   ],
   "source": [
    "import pickle\n",
    "from bs4 import BeautifulSoup\n",
    "import spacy\n",
    "from collections import Counter\n",
    "\n",
    "# 1. Load HTML content from the pickle file\n",
    "with open('article.pkl', 'rb') as f:\n",
    "    html_content = pickle.load(f)\n",
    "\n",
    "# 2. Parse the HTML and extract text\n",
    "soup = BeautifulSoup(html_content, 'html.parser')\n",
    "text = soup.get_text(separator=' ', strip=True)\n",
    "\n",
    "# 3. Load a spaCy language model\n",
    "nlp = spacy.load('en_core_web_sm')  # Make sure this model is installed\n",
    "\n",
    "# 4. Process the text\n",
    "doc = nlp(text)\n",
    "\n",
    "# 5. Filter tokens and get lowercase lemmas\n",
    "filtered_lemmas = [\n",
    "    token.lemma_.lower()\n",
    "    for token in doc\n",
    "    if not (token.is_stop or token.is_punct or token.is_space)\n",
    "]\n",
    "\n",
    "# 6. Count lemma frequencies\n",
    "lemma_freq = Counter(filtered_lemmas)\n",
    "\n",
    "# 7. Get the 5 most common lemmas\n",
    "most_common_lemmas = lemma_freq.most_common(5)\n",
    "\n",
    "# 8. Print results\n",
    "print(\"Top 5 Most Frequent Lemmas:\")\n",
    "for lemma, freq in most_common_lemmas:\n",
    "    print(f\"  Lemma: '{lemma}'  —  Frequency: {freq}\")"
   ]
  },
  {
   "cell_type": "markdown",
   "metadata": {},
   "source": [
    "5. Define the following methods:\n",
    "    * `score_sentence_by_token(sentence, interesting_token)` that takes a sentence and a list of interesting token and returns the number of times that any of the interesting words appear in the sentence divided by the number of words in the sentence\n",
    "    * `score_sentence_by_lemma(sentence, interesting_lemmas)` that takes a sentence and a list of interesting lemmas and returns the number of times that any of the interesting lemmas appear in the sentence divided by the number of words in the sentence\n",
    "    \n",
    "You may find some of the code from the in class notes useful; feel free to use methods (rewrite them in this cell as well).  Test them by showing the score of the first sentence in your article using the frequent tokens and frequent lemmas identified in question 3."
   ]
  },
  {
   "cell_type": "markdown",
   "metadata": {},
   "source": [
    "## Question 5 Week 6"
   ]
  },
  {
   "cell_type": "code",
   "execution_count": 15,
   "metadata": {},
   "outputs": [
    {
     "name": "stdout",
     "output_type": "stream",
     "text": [
      "First sentence:\n",
      "How Laser Headlights Work 130 Comments by: Lewin Day March 22, 2021 When we think about the onward march of automotive technology, headlights aren’t usually the first thing that come to mind.\n",
      "\n",
      "Token-Based Score: 0.12\n",
      "Lemma-Based Score: 0.09\n"
     ]
    }
   ],
   "source": [
    "import spacy\n",
    "\n",
    "# Load spaCy model\n",
    "nlp = spacy.load(\"en_core_web_sm\")\n",
    "\n",
    "def score_sentence_by_token(sentence, interesting_token):\n",
    "    # Process the sentence with spaCy\n",
    "    doc = nlp(sentence)\n",
    "\n",
    "    # Tokenize and clean: remove punctuation and spaces\n",
    "    words = [token.text.lower() for token in doc if not token.is_punct and not token.is_space]\n",
    "\n",
    "    if not words:\n",
    "        return 0.0  # Avoid division by zero\n",
    "\n",
    "    # Count how many words are in the interesting_token list\n",
    "    interesting_count = sum(1 for word in words if word in interesting_token)\n",
    "\n",
    "    # Compute the token score\n",
    "    token_score = interesting_count / len(words)\n",
    "    return token_score\n",
    "\n",
    "\n",
    "def score_sentence_by_lemma(sentence, interesting_lemmas):\n",
    "    \"\"\"\n",
    "    Score = (# of matching interesting lemmas in sentence) / (# of words in sentence)\n",
    "    \"\"\"\n",
    "\n",
    "    # Process the sentence\n",
    "    doc = nlp(sentence)\n",
    "\n",
    "    # Extract meaningful lemmas: ignore punctuation, whitespace\n",
    "    lemmas = [token.lemma_.lower() for token in doc if not token.is_punct and not token.is_space]\n",
    "\n",
    "    if not lemmas:\n",
    "        return 0.0  # Avoid division by zero\n",
    "\n",
    "    # Count how many lemmas are in the interesting_lemmas list\n",
    "    interesting_count = sum(1 for lemma in lemmas if lemma in interesting_lemmas)\n",
    "\n",
    "    # Compute and return the lemma score\n",
    "    lemma_score = interesting_count / len(lemmas)\n",
    "    return lemma_score\n",
    "\n",
    "# 4. Get the first sentence\n",
    "first_sentence = next(doc.sents).text  # Use next() to get the first sentence\n",
    "\n",
    "# 5. Use it with your scoring functions\n",
    "print(\"First sentence:\")\n",
    "print(first_sentence)\n",
    "\n",
    "# Step 6: Score using token and lemma functions\n",
    "token_score = score_sentence_by_token(first_sentence, [t[0] for t in most_common])\n",
    "lemma_score = score_sentence_by_lemma(first_sentence, [l[0] for l in most_common_lemmas])\n",
    "\n",
    "# Step 7: Print the results\n",
    "print(f\"\\nToken-Based Score: {token_score:.2f}\")\n",
    "print(f\"Lemma-Based Score: {lemma_score:.2f}\")"
   ]
  },
  {
   "cell_type": "markdown",
   "metadata": {},
   "source": [
    "6. Make a list containing the scores (using tokens) of every sentence in the article, and plot a histogram with appropriate titles and axis labels of the scores. From your histogram, what seems to be the most common range of scores (put the answer in a comment after your code)?"
   ]
  },
  {
   "cell_type": "markdown",
   "metadata": {},
   "source": [
    "## Question 6 Week 6"
   ]
  },
  {
   "cell_type": "code",
   "execution_count": 23,
   "metadata": {},
   "outputs": [
    {
     "data": {
      "image/png": "[encoded data removed]",
      "text/plain": [
       "<Figure size 1000x600 with 1 Axes>"
      ]
     },
     "metadata": {},
     "output_type": "display_data"
    }
   ],
   "source": [
    "import pickle\n",
    "from bs4 import BeautifulSoup\n",
    "import spacy\n",
    "import matplotlib.pyplot as plt\n",
    "\n",
    "# Load spaCy\n",
    "nlp = spacy.load(\"en_core_web_sm\")\n",
    "\n",
    "# Load article HTML from .pkl\n",
    "with open('article.pkl', 'rb') as f:\n",
    "    html_content = pickle.load(f)\n",
    "\n",
    "# Extract raw text\n",
    "soup = BeautifulSoup(html_content, 'html.parser')\n",
    "text = soup.get_text(separator=' ', strip=True)\n",
    "\n",
    "# Process entire document\n",
    "doc = nlp(text)\n",
    "\n",
    "# Example most_common tokens — you should generate this earlier in your code\n",
    "from collections import Counter\n",
    "filtered_tokens = [\n",
    "    token.text.lower()\n",
    "    for token in doc\n",
    "    if not (token.is_stop or token.is_punct or token.is_space)\n",
    "]\n",
    "most_common = Counter(filtered_tokens).most_common(5)\n",
    "interesting_tokens = [t[0] for t in most_common]\n",
    "\n",
    "# Scoring function\n",
    "def score_sentence_by_token(sentence, interesting_tokens):\n",
    "    doc = nlp(sentence)\n",
    "    words = [token.text.lower() for token in doc if not token.is_punct and not token.is_space]\n",
    "    if not words:\n",
    "        return 0.0\n",
    "    interesting_count = sum(1 for word in words if word in interesting_tokens)\n",
    "    return interesting_count / len(words)\n",
    "\n",
    "# Score each sentence\n",
    "scores = [score_sentence_by_token(sent.text, interesting_tokens) for sent in doc.sents]\n",
    "\n",
    "# Plot histogram\n",
    "plt.figure(figsize=(10, 6))\n",
    "plt.hist(scores, bins=20, color='skyblue', edgecolor='black')\n",
    "plt.title(\"Distribution of Sentence Scores (Token-Based)\")\n",
    "plt.xlabel(\"Score\")\n",
    "plt.ylabel(\"Number of Sentences\")\n",
    "plt.grid(True)\n",
    "plt.tight_layout()\n",
    "plt.show()\n",
    "\n",
    "# The most common range of token scores is 0 to 0.15."
   ]
  },
  {
   "cell_type": "markdown",
   "metadata": {},
   "source": [
    "7. Make a list containing the scores (using lemmas) of every sentence in the article, and plot a histogram with appropriate titles and axis labels of the scores.  From your histogram, what seems to be the most common range of scores (put the answer in a comment after your code)?"
   ]
  },
  {
   "cell_type": "markdown",
   "metadata": {},
   "source": [
    "## Question 7 Week 6"
   ]
  },
  {
   "cell_type": "code",
   "execution_count": 24,
   "metadata": {},
   "outputs": [
    {
     "data": {
      "image/png": "[encoded data removed]",
      "text/plain": [
       "<Figure size 1000x600 with 1 Axes>"
      ]
     },
     "metadata": {},
     "output_type": "display_data"
    }
   ],
   "source": [
    "import pickle\n",
    "from bs4 import BeautifulSoup\n",
    "import spacy\n",
    "import matplotlib.pyplot as plt\n",
    "from collections import Counter\n",
    "\n",
    "# Load spaCy model\n",
    "nlp = spacy.load(\"en_core_web_sm\")\n",
    "\n",
    "# 1. Load the article HTML from the .pkl\n",
    "with open('article.pkl', 'rb') as f:\n",
    "    html_content = pickle.load(f)\n",
    "\n",
    "# 2. Extract article text\n",
    "soup = BeautifulSoup(html_content, 'html.parser')\n",
    "text = soup.get_text(separator=' ', strip=True)\n",
    "\n",
    "# 3. Process the full document\n",
    "doc = nlp(text)\n",
    "\n",
    "# 4. Get interesting lemmas (e.g., top 5 frequent meaningful lemmas)\n",
    "filtered_lemmas = [\n",
    "    token.lemma_.lower()\n",
    "    for token in doc\n",
    "    if not token.is_stop and not token.is_punct and not token.is_space\n",
    "]\n",
    "most_common_lemmas = Counter(filtered_lemmas).most_common(5)\n",
    "interesting_lemmas = [lemma for lemma, _ in most_common_lemmas]\n",
    "\n",
    "# 5. Define scoring function using lemmas\n",
    "def score_sentence_by_lemma(sentence, interesting_lemmas):\n",
    "    doc = nlp(sentence)\n",
    "    lemmas = [token.lemma_.lower() for token in doc if not token.is_punct and not token.is_space]\n",
    "    if not lemmas:\n",
    "        return 0.0\n",
    "    match_count = sum(1 for lemma in lemmas if lemma in interesting_lemmas)\n",
    "    return match_count / len(lemmas)\n",
    "\n",
    "# 6. Score all sentences in the article\n",
    "lemma_scores = [score_sentence_by_lemma(sent.text, interesting_lemmas) for sent in doc.sents]\n",
    "\n",
    "# 7. Plot histogram of lemma-based sentence scores\n",
    "plt.figure(figsize=(10, 6))\n",
    "plt.hist(lemma_scores, bins=20, color='salmon', edgecolor='black')\n",
    "plt.title(\"Distribution of Sentence Scores (Lemma-Based)\")\n",
    "plt.xlabel(\"Lemma-Based Score\")\n",
    "plt.ylabel(\"Number of Sentences\")\n",
    "plt.grid(True)\n",
    "plt.tight_layout()\n",
    "plt.show()\n",
    "\n",
    "# The most common range of lemma scores is 0 to 0.15."
   ]
  },
  {
   "cell_type": "markdown",
   "metadata": {},
   "source": [
    "8. Which tokens and lexems would be ommitted from the lists generated in questions 3 and 4 if we only wanted to consider nouns as interesting words?  How might we change the code to only consider nouns? Put your answer in this Markdown cell (you can edit it by double clicking it).\n",
    "\n",
    "## Question 8 Week 6\n",
    "We would use this key component to get the nouns in our list.  token.pos_ == 'NOUN'\n",
    "However when I look at the top five tokens and lexems from questions 3 and 4 lists they are all nouns.  So I don't think any would be ommitted.  led refers to LED lights so that is a noun too."
   ]
  },
  {
   "cell_type": "markdown",
   "metadata": {},
   "source": []
  }
 ],
 "metadata": {
  "kernelspec": {
   "display_name": "Python 3",
   "language": "python",
   "name": "python3"
  },
  "language_info": {
   "codemirror_mode": {
    "name": "ipython",
    "version": 3
   },
   "file_extension": ".py",
   "mimetype": "text/x-python",
   "name": "python",
   "nbconvert_exporter": "python",
   "pygments_lexer": "ipython3",
   "version": "3.12.5"
  }
 },
 "nbformat": 4,
 "nbformat_minor": 4
}
